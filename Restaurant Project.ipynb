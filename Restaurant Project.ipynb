{
  "cells": [
    {
      "cell_type": "markdown",
      "metadata": {
        "id": "W3N5SXMW1KEy"
      },
      "source": [
        "Self Project\n",
        "\n",
        "\n",
        "---\n",
        "\n",
        "\n",
        "Vinayak Gautam\n",
        "\n",
        "---\n",
        "\n",
        "\n",
        "\n",
        "---\n",
        "\n",
        "\n"
      ]
    },
    {
      "cell_type": "code",
      "execution_count": 4,
      "metadata": {
        "id": "wXmTuPUew3uj"
      },
      "outputs": [],
      "source": [
        "import pandas as pd\n",
        "import numpy as np\n",
        "import matplotlib.pyplot as plt\n",
        "from sklearn import linear_model\n",
        "from sklearn.metrics import mean_squared_error\n",
        "import math\n",
        "%matplotlib inline"
      ]
    },
    {
      "cell_type": "code",
      "execution_count": 5,
      "metadata": {
        "colab": {
          "base_uri": "https://localhost:8080/",
          "height": 206
        },
        "id": "WNWz6t8XxoYq",
        "outputId": "13e84741-0694-4408-ca43-a683384544cf"
      },
      "outputs": [
        {
          "data": {
            "text/html": [
              "<div>\n",
              "<style scoped>\n",
              "    .dataframe tbody tr th:only-of-type {\n",
              "        vertical-align: middle;\n",
              "    }\n",
              "\n",
              "    .dataframe tbody tr th {\n",
              "        vertical-align: top;\n",
              "    }\n",
              "\n",
              "    .dataframe thead th {\n",
              "        text-align: right;\n",
              "    }\n",
              "</style>\n",
              "<table border=\"1\" class=\"dataframe\">\n",
              "  <thead>\n",
              "    <tr style=\"text-align: right;\">\n",
              "      <th></th>\n",
              "      <th>food</th>\n",
              "      <th>decor</th>\n",
              "      <th>service</th>\n",
              "      <th>price</th>\n",
              "    </tr>\n",
              "  </thead>\n",
              "  <tbody>\n",
              "    <tr>\n",
              "      <th>0</th>\n",
              "      <td>18.0</td>\n",
              "      <td>22.0</td>\n",
              "      <td>17.0</td>\n",
              "      <td>41.0</td>\n",
              "    </tr>\n",
              "    <tr>\n",
              "      <th>1</th>\n",
              "      <td>24.0</td>\n",
              "      <td>22.0</td>\n",
              "      <td>22.0</td>\n",
              "      <td>54.0</td>\n",
              "    </tr>\n",
              "    <tr>\n",
              "      <th>2</th>\n",
              "      <td>18.0</td>\n",
              "      <td>17.0</td>\n",
              "      <td>14.0</td>\n",
              "      <td>32.0</td>\n",
              "    </tr>\n",
              "    <tr>\n",
              "      <th>3</th>\n",
              "      <td>18.0</td>\n",
              "      <td>9.0</td>\n",
              "      <td>13.0</td>\n",
              "      <td>20.0</td>\n",
              "    </tr>\n",
              "    <tr>\n",
              "      <th>4</th>\n",
              "      <td>21.0</td>\n",
              "      <td>12.0</td>\n",
              "      <td>16.0</td>\n",
              "      <td>25.0</td>\n",
              "    </tr>\n",
              "  </tbody>\n",
              "</table>\n",
              "</div>"
            ],
            "text/plain": [
              "   food  decor  service  price\n",
              "0  18.0   22.0     17.0   41.0\n",
              "1  24.0   22.0     22.0   54.0\n",
              "2  18.0   17.0     14.0   32.0\n",
              "3  18.0    9.0     13.0   20.0\n",
              "4  21.0   12.0     16.0   25.0"
            ]
          },
          "execution_count": 5,
          "metadata": {},
          "output_type": "execute_result"
        }
      ],
      "source": [
        "df=pd.read_csv(\"restaurent.csv\")\n",
        "df.head()"
      ]
    },
    {
      "cell_type": "code",
      "execution_count": 6,
      "metadata": {
        "colab": {
          "base_uri": "https://localhost:8080/",
          "height": 206
        },
        "id": "_AWf20IPyXcO",
        "outputId": "d9a4d993-9af4-4ba4-836a-d04b3c9a1ebf"
      },
      "outputs": [
        {
          "data": {
            "text/html": [
              "<div>\n",
              "<style scoped>\n",
              "    .dataframe tbody tr th:only-of-type {\n",
              "        vertical-align: middle;\n",
              "    }\n",
              "\n",
              "    .dataframe tbody tr th {\n",
              "        vertical-align: top;\n",
              "    }\n",
              "\n",
              "    .dataframe thead th {\n",
              "        text-align: right;\n",
              "    }\n",
              "</style>\n",
              "<table border=\"1\" class=\"dataframe\">\n",
              "  <thead>\n",
              "    <tr style=\"text-align: right;\">\n",
              "      <th></th>\n",
              "      <th>food</th>\n",
              "      <th>decor</th>\n",
              "      <th>service</th>\n",
              "      <th>price</th>\n",
              "    </tr>\n",
              "  </thead>\n",
              "  <tbody>\n",
              "    <tr>\n",
              "      <th>0</th>\n",
              "      <td>23.0</td>\n",
              "      <td>15.0</td>\n",
              "      <td>21.0</td>\n",
              "      <td>36.0</td>\n",
              "    </tr>\n",
              "    <tr>\n",
              "      <th>1</th>\n",
              "      <td>20.0</td>\n",
              "      <td>13.0</td>\n",
              "      <td>14.0</td>\n",
              "      <td>23.0</td>\n",
              "    </tr>\n",
              "    <tr>\n",
              "      <th>2</th>\n",
              "      <td>21.0</td>\n",
              "      <td>19.0</td>\n",
              "      <td>20.0</td>\n",
              "      <td>42.0</td>\n",
              "    </tr>\n",
              "    <tr>\n",
              "      <th>3</th>\n",
              "      <td>22.0</td>\n",
              "      <td>20.0</td>\n",
              "      <td>21.0</td>\n",
              "      <td>42.0</td>\n",
              "    </tr>\n",
              "    <tr>\n",
              "      <th>4</th>\n",
              "      <td>21.0</td>\n",
              "      <td>21.0</td>\n",
              "      <td>19.0</td>\n",
              "      <td>33.0</td>\n",
              "    </tr>\n",
              "  </tbody>\n",
              "</table>\n",
              "</div>"
            ],
            "text/plain": [
              "   food  decor  service  price\n",
              "0  23.0   15.0     21.0   36.0\n",
              "1  20.0   13.0     14.0   23.0\n",
              "2  21.0   19.0     20.0   42.0\n",
              "3  22.0   20.0     21.0   42.0\n",
              "4  21.0   21.0     19.0   33.0"
            ]
          },
          "execution_count": 6,
          "metadata": {},
          "output_type": "execute_result"
        }
      ],
      "source": [
        "#choosing 50 data samples randomly and reseting index\n",
        "df1=df.sample(50)\n",
        "df1.reset_index(inplace = True, drop = True)\n",
        "df1.head()"
      ]
    },
    {
      "cell_type": "code",
      "execution_count": 7,
      "metadata": {
        "colab": {
          "base_uri": "https://localhost:8080/"
        },
        "id": "7M71lfaZ0Ijk",
        "outputId": "4d513b97-2c95-4045-f8ca-c44d64bdf821"
      },
      "outputs": [
        {
          "data": {
            "text/plain": [
              "(50, 4)"
            ]
          },
          "execution_count": 7,
          "metadata": {},
          "output_type": "execute_result"
        }
      ],
      "source": [
        "#shape of df1\n",
        "df1.shape"
      ]
    },
    {
      "cell_type": "code",
      "execution_count": 8,
      "metadata": {
        "colab": {
          "base_uri": "https://localhost:8080/"
        },
        "id": "qEY8RDI7152A",
        "outputId": "08b85cb1-53bb-4fe5-b648-6076d728deb9"
      },
      "outputs": [
        {
          "name": "stdout",
          "output_type": "stream",
          "text": [
            "<class 'pandas.core.frame.DataFrame'>\n",
            "RangeIndex: 50 entries, 0 to 49\n",
            "Data columns (total 4 columns):\n",
            " #   Column   Non-Null Count  Dtype  \n",
            "---  ------   --------------  -----  \n",
            " 0   food     50 non-null     float64\n",
            " 1   decor    50 non-null     float64\n",
            " 2   service  50 non-null     float64\n",
            " 3   price    50 non-null     float64\n",
            "dtypes: float64(4)\n",
            "memory usage: 1.7 KB\n"
          ]
        }
      ],
      "source": [
        "#To check if there is a null value\n",
        "df1.info()"
      ]
    },
    {
      "cell_type": "code",
      "execution_count": 9,
      "metadata": {
        "colab": {
          "base_uri": "https://localhost:8080/",
          "height": 300
        },
        "id": "UtEL10cc0Umo",
        "outputId": "5776cbd1-da00-4b26-9d47-6eb13e9bc314"
      },
      "outputs": [
        {
          "data": {
            "text/html": [
              "<div>\n",
              "<style scoped>\n",
              "    .dataframe tbody tr th:only-of-type {\n",
              "        vertical-align: middle;\n",
              "    }\n",
              "\n",
              "    .dataframe tbody tr th {\n",
              "        vertical-align: top;\n",
              "    }\n",
              "\n",
              "    .dataframe thead th {\n",
              "        text-align: right;\n",
              "    }\n",
              "</style>\n",
              "<table border=\"1\" class=\"dataframe\">\n",
              "  <thead>\n",
              "    <tr style=\"text-align: right;\">\n",
              "      <th></th>\n",
              "      <th>food</th>\n",
              "      <th>decor</th>\n",
              "      <th>service</th>\n",
              "      <th>price</th>\n",
              "    </tr>\n",
              "  </thead>\n",
              "  <tbody>\n",
              "    <tr>\n",
              "      <th>count</th>\n",
              "      <td>50.000000</td>\n",
              "      <td>50.000000</td>\n",
              "      <td>50.000000</td>\n",
              "      <td>50.000000</td>\n",
              "    </tr>\n",
              "    <tr>\n",
              "      <th>mean</th>\n",
              "      <td>20.400000</td>\n",
              "      <td>17.620000</td>\n",
              "      <td>18.640000</td>\n",
              "      <td>37.460000</td>\n",
              "    </tr>\n",
              "    <tr>\n",
              "      <th>std</th>\n",
              "      <td>2.213133</td>\n",
              "      <td>3.875038</td>\n",
              "      <td>2.693605</td>\n",
              "      <td>11.462824</td>\n",
              "    </tr>\n",
              "    <tr>\n",
              "      <th>min</th>\n",
              "      <td>16.000000</td>\n",
              "      <td>8.000000</td>\n",
              "      <td>14.000000</td>\n",
              "      <td>18.000000</td>\n",
              "    </tr>\n",
              "    <tr>\n",
              "      <th>25%</th>\n",
              "      <td>19.000000</td>\n",
              "      <td>15.000000</td>\n",
              "      <td>16.000000</td>\n",
              "      <td>29.000000</td>\n",
              "    </tr>\n",
              "    <tr>\n",
              "      <th>50%</th>\n",
              "      <td>21.000000</td>\n",
              "      <td>17.000000</td>\n",
              "      <td>19.000000</td>\n",
              "      <td>36.000000</td>\n",
              "    </tr>\n",
              "    <tr>\n",
              "      <th>75%</th>\n",
              "      <td>22.000000</td>\n",
              "      <td>20.000000</td>\n",
              "      <td>21.000000</td>\n",
              "      <td>44.000000</td>\n",
              "    </tr>\n",
              "    <tr>\n",
              "      <th>max</th>\n",
              "      <td>26.000000</td>\n",
              "      <td>28.000000</td>\n",
              "      <td>26.000000</td>\n",
              "      <td>65.000000</td>\n",
              "    </tr>\n",
              "  </tbody>\n",
              "</table>\n",
              "</div>"
            ],
            "text/plain": [
              "            food      decor    service      price\n",
              "count  50.000000  50.000000  50.000000  50.000000\n",
              "mean   20.400000  17.620000  18.640000  37.460000\n",
              "std     2.213133   3.875038   2.693605  11.462824\n",
              "min    16.000000   8.000000  14.000000  18.000000\n",
              "25%    19.000000  15.000000  16.000000  29.000000\n",
              "50%    21.000000  17.000000  19.000000  36.000000\n",
              "75%    22.000000  20.000000  21.000000  44.000000\n",
              "max    26.000000  28.000000  26.000000  65.000000"
            ]
          },
          "execution_count": 9,
          "metadata": {},
          "output_type": "execute_result"
        }
      ],
      "source": [
        "df1.describe()"
      ]
    },
    {
      "cell_type": "markdown",
      "metadata": {
        "id": "AcVC9sn41Epm"
      },
      "source": [
        "**(a)Plot price vs. each of the three independent variables. Does it seem like\n",
        "y (price) is related to the x’s (food, service, and decor)?**"
      ]
    },
    {
      "cell_type": "code",
      "execution_count": 10,
      "metadata": {
        "colab": {
          "base_uri": "https://localhost:8080/",
          "height": 442
        },
        "id": "hXb6QXXx1ibJ",
        "outputId": "5f749890-0e66-4e18-92fd-efa3c569c431"
      },
      "outputs": [
        {
          "data": {
            "image/png": "[encoded data removed]",
            "text/plain": [
              "<Figure size 792x504 with 1 Axes>"
            ]
          },
          "metadata": {
            "needs_background": "light"
          },
          "output_type": "display_data"
        }
      ],
      "source": [
        "#plotting price vs food\n",
        "plt.figure(figsize=(11,7))\n",
        "plt.scatter(df1[['food']],df1[['price']], color='red',marker='+')\n",
        "plt.ylabel('Price')\n",
        "plt.xlabel('Food')\n",
        "plt.show()"
      ]
    },
    {
      "cell_type": "markdown",
      "metadata": {
        "id": "zQqackMi4cYO"
      },
      "source": [
        "Here it seems like price is clearly related to food , as quantity of food increases the price also increases, we can use linear function for preditions, and accuracy would be nearly moderate not much high, if we use only food feature."
      ]
    },
    {
      "cell_type": "code",
      "execution_count": 11,
      "metadata": {
        "colab": {
          "base_uri": "https://localhost:8080/",
          "height": 442
        },
        "id": "8dntBjLn2sEz",
        "outputId": "66c96f01-1c19-4978-ca5e-a3c89957b1f0"
      },
      "outputs": [
        {
          "data": {
            "image/png": "[encoded data removed]",
            "text/plain": [
              "<Figure size 792x504 with 1 Axes>"
            ]
          },
          "metadata": {
            "needs_background": "light"
          },
          "output_type": "display_data"
        }
      ],
      "source": [
        "#plotting price vs decor\n",
        "plt.figure(figsize=(11,7))\n",
        "plt.scatter(df1[['decor']],df1[['price']], color='green',marker='+')\n",
        "plt.ylabel('Price')\n",
        "plt.xlabel('Decor')\n",
        "plt.show()"
      ]
    },
    {
      "cell_type": "markdown",
      "metadata": {
        "id": "57hCUXuO5Nio"
      },
      "source": [
        "Here initially when the decor is less(<7) price doesnot seems to be related to decor as we have very few data points in that region from the randomly selected 50 points, but after that there seems to be price increase with the increase in decor showing a relation betwwen them."
      ]
    },
    {
      "cell_type": "code",
      "execution_count": 12,
      "metadata": {
        "colab": {
          "base_uri": "https://localhost:8080/",
          "height": 442
        },
        "id": "dRfe0f1j3Z_p",
        "outputId": "7d3df71d-e4ec-4ec2-b0e5-8a908b2d9bb3"
      },
      "outputs": [
        {
          "data": {
            "image/png": "[encoded data removed]",
            "text/plain": [
              "<Figure size 792x504 with 1 Axes>"
            ]
          },
          "metadata": {
            "needs_background": "light"
          },
          "output_type": "display_data"
        }
      ],
      "source": [
        "#plotting price vs service\n",
        "plt.figure(figsize=(11,7))\n",
        "plt.scatter(df1[['service']],df1[['price']], color='blue',marker='+')\n",
        "plt.ylabel('Price')\n",
        "plt.xlabel('Service')\n",
        "plt.show()"
      ]
    },
    {
      "cell_type": "markdown",
      "metadata": {
        "id": "69iiCDqd6HJw"
      },
      "source": [
        "There seems to be a clear relation between price and service as price increases with increase in service feature and linear model can be used with moderate accuracy if only service feature is used."
      ]
    },
    {
      "cell_type": "markdown",
      "metadata": {
        "id": "YOsbGDD__2uz"
      },
      "source": [
        "**(b) Suppose a restaurant has food = 125, service=148, and decor=265. Run\n",
        "the regression of price on food, decor, and service and give the 95%\n",
        "predictive interval for the price of a meal.**\n"
      ]
    },
    {
      "cell_type": "code",
      "execution_count": 13,
      "metadata": {
        "colab": {
          "base_uri": "https://localhost:8080/"
        },
        "id": "HSQaCXOR_6H7",
        "outputId": "4b08091d-33c5-4350-91c0-e22b5cc36364"
      },
      "outputs": [
        {
          "data": {
            "text/plain": [
              "LinearRegression()"
            ]
          },
          "execution_count": 13,
          "metadata": {},
          "output_type": "execute_result"
        }
      ],
      "source": [
        "#using multiregression\n",
        "reg=linear_model.LinearRegression()\n",
        "reg.fit(df1[['food','decor','service']],df1.price)"
      ]
    },
    {
      "cell_type": "code",
      "execution_count": 14,
      "metadata": {
        "colab": {
          "base_uri": "https://localhost:8080/"
        },
        "id": "bvBkQXylAEMP",
        "outputId": "a1e0eff9-e81d-4e59-c85c-9a7a8c8ea25d"
      },
      "outputs": [
        {
          "data": {
            "text/plain": [
              "array([623.48341739])"
            ]
          },
          "execution_count": 14,
          "metadata": {},
          "output_type": "execute_result"
        }
      ],
      "source": [
        "#predicting the price value for given features\n",
        "a=reg.predict([[125,148,265]])\n",
        "a"
      ]
    },
    {
      "cell_type": "markdown",
      "metadata": {
        "id": "XHy59s2gCS2b"
      },
      "source": [
        "So, Price for the given values of food(125), decor(148), service(265) is a[0] element for the choosen 50 samples"
      ]
    },
    {
      "cell_type": "code",
      "execution_count": 15,
      "metadata": {
        "colab": {
          "base_uri": "https://localhost:8080/"
        },
        "id": "zjt_1S9gbPFO",
        "outputId": "fc6bbe51-9d21-44f1-f479-0318856a9409"
      },
      "outputs": [
        {
          "name": "stdout",
          "output_type": "stream",
          "text": [
            "95% predictive interval for the given feature values will be: (612.2046257133867, 634.762209070948)\n"
          ]
        }
      ],
      "source": [
        "#finding 95% interval\n",
        "price_true=df1['price']\n",
        "price_pred=reg.predict(df1[['food','decor','service']])\n",
        "sum_errors = len(price_true)*mean_squared_error(price_true, price_pred)     # finding sum or errors\n",
        "stdev = math.sqrt((1/(len(price_true)-2)) * sum_errors)\n",
        "interval = stdev*1.96   # interval for 95% prediction interval\n",
        "# printing the result\n",
        "print(\"95% predictive interval for the given feature values will be: (\" + str(a[0] - interval) + \", \" + str(a[0] + interval) + str(\")\") )"
      ]
    },
    {
      "cell_type": "markdown",
      "metadata": {
        "id": "n5f_BWcJIQPG"
      },
      "source": [
        "**(c)What is the interpretation of the coefficient estimate for the explanatory\n",
        "variable food in the multiple regression from part (b)?**"
      ]
    },
    {
      "cell_type": "code",
      "execution_count": 16,
      "metadata": {
        "colab": {
          "base_uri": "https://localhost:8080/"
        },
        "id": "M191A48dISi4",
        "outputId": "c82c9420-fe89-46ad-8c9e-22d14d63c3ec"
      },
      "outputs": [
        {
          "name": "stdout",
          "output_type": "stream",
          "text": [
            "coeffiecent of food for multi regression is 1.4243985035189806\n",
            "coeffiecent of decor for multi regression is 1.514194603663477\n",
            "coeffiecent of service for multi regression is 0.9726036755091652\n"
          ]
        }
      ],
      "source": [
        "#coefficient of regression\n",
        "g=reg.coef_\n",
        "print('coeffiecent of food for multi regression is '+ str(g[0]))\n",
        "print('coeffiecent of decor for multi regression is '+ str(g[1]))\n",
        "print('coeffiecent of service for multi regression is '+ str(g[2]))"
      ]
    },
    {
      "cell_type": "markdown",
      "metadata": {
        "id": "BSc5bc_DJCHT"
      },
      "source": [
        "coefficent estimate for food is generally greater than coefficient estimate of decor and of service so we can interpret that the price is much more dependend on feature 'food' rather than feature 'decor' and 'service'."
      ]
    },
    {
      "cell_type": "markdown",
      "metadata": {
        "id": "vOh_5-dVKCRO"
      },
      "source": [
        "**(d)Suppose you were to regress price on the one variable food in a simple\n",
        "linear regression? What would be the interpretation of the slope? Plot food\n",
        "vs. service. Is there a relationship? Does it make sense? What is your\n",
        "prediction for how the estimated coefficient for the variable food in the\n",
        "regression of price on food will compare to the estimated coefficient for food\n",
        "in the regression of price on food, service, and decor? Run the simple linear\n",
        "regression of price on food and see if you are right! Why are\n",
        "the coefficients different in the two regressions?**"
      ]
    },
    {
      "cell_type": "markdown",
      "metadata": {
        "id": "mZJcZdimLSfG"
      },
      "source": [
        "If we were to regress price on the one variable food in a simple linear regression then it mean that according to us the price only depends on feature 'food' and interpretation of slope **(suppose be 'x'to be calculated ahead)** is for every increase in **1** quantity feature food there will be **x(slope)** increase in price."
      ]
    },
    {
      "cell_type": "code",
      "execution_count": 17,
      "metadata": {
        "colab": {
          "base_uri": "https://localhost:8080/",
          "height": 442
        },
        "id": "HJer1VdaMR2M",
        "outputId": "cad9aa89-616b-4515-d3f2-1da31af40a2d"
      },
      "outputs": [
        {
          "data": {
            "image/png": "[encoded data removed]",
            "text/plain": [
              "<Figure size 792x504 with 1 Axes>"
            ]
          },
          "metadata": {
            "needs_background": "light"
          },
          "output_type": "display_data"
        }
      ],
      "source": [
        "#ploting food vs service\n",
        "plt.figure(figsize=(11,7))\n",
        "plt.scatter(df1.service,df1.food,color='b')\n",
        "plt.xlabel('Service')\n",
        "plt.ylabel('Food')\n",
        "plt.show()"
      ]
    },
    {
      "cell_type": "markdown",
      "metadata": {
        "id": "oPYAWnQmOqAB"
      },
      "source": [
        "There seems to be a relationship , as feature 'food' increases then the feature 'service' also increses. This makes some sense as the food ordered is superior (more value of feature food) then the service provided is also better."
      ]
    },
    {
      "cell_type": "markdown",
      "metadata": {
        "id": "SQ_8S9d-RXGl"
      },
      "source": [
        "The coefficient  for only simple linear regression with food feature must be different from the food coefficient for multiple regression with three feature as in simple linear regression price value depends only on food feature and in multiple regression the price value depends on all the three feature so MSE loss in both case is different so we can expect differenr coefficient in both regression."
      ]
    },
    {
      "cell_type": "code",
      "execution_count": 18,
      "metadata": {
        "colab": {
          "base_uri": "https://localhost:8080/"
        },
        "id": "UBxlvtTVRZgg",
        "outputId": "1b1cbcfb-b3bd-4641-ae4f-8c3b363c6fa2"
      },
      "outputs": [
        {
          "data": {
            "text/plain": [
              "LinearRegression()"
            ]
          },
          "execution_count": 18,
          "metadata": {},
          "output_type": "execute_result"
        }
      ],
      "source": [
        "#Simple linear regression only on feature 'food'\n",
        "reg1 = linear_model.LinearRegression()\n",
        "reg1.fit(df1[['food']],df1.price)\n"
      ]
    },
    {
      "cell_type": "code",
      "execution_count": 19,
      "metadata": {
        "colab": {
          "base_uri": "https://localhost:8080/"
        },
        "id": "NqeC6OHhSp40",
        "outputId": "dc9b795f-eb2f-4c69-877d-ee5bcf0fc223"
      },
      "outputs": [
        {
          "name": "stdout",
          "output_type": "stream",
          "text": [
            "coeffiecent of food for simple linear regression is 3.340833333333334\n"
          ]
        }
      ],
      "source": [
        "#coefficient of food in simple regression\n",
        "z=reg1.coef_\n",
        "print('coeffiecent of food for simple linear regression is '+ str(z[0]))"
      ]
    },
    {
      "cell_type": "markdown",
      "metadata": {
        "id": "EZZDU_N4VHdo"
      },
      "source": [
        "Coefficient of food in Simple linear regression is much **different** from the coefficient of food in mutli regression "
      ]
    },
    {
      "cell_type": "markdown",
      "metadata": {
        "id": "nxrZkGJnV9D_"
      },
      "source": [
        "This is same as we expected earlier."
      ]
    },
    {
      "cell_type": "markdown",
      "metadata": {
        "id": "7RF8cL3CWX-3"
      },
      "source": [
        "**(e) Suppose I asked you to use the multiple regression results to predict the\n",
        "price of a meal at a restaurant with food = 20, service = 3, and decor =17.\n",
        "How would you feel about it?**"
      ]
    },
    {
      "cell_type": "code",
      "execution_count": 20,
      "metadata": {
        "colab": {
          "base_uri": "https://localhost:8080/"
        },
        "id": "Doe_IXlKWciH",
        "outputId": "7f46f466-43a6-4283-dfd9-4376d6e45cfc"
      },
      "outputs": [
        {
          "name": "stdout",
          "output_type": "stream",
          "text": [
            "Predicted value of price is 20.739918459357703\n"
          ]
        }
      ],
      "source": [
        "#finding price value for given value of features\n",
        "b=reg.predict([[20,17,3]])\n",
        "print('Predicted value of price is',b[0])"
      ]
    },
    {
      "cell_type": "markdown",
      "metadata": {
        "id": "TNs4mgEnYRGL"
      },
      "source": [
        "It feels good as the predicted value of price is near to the mean value of 50 sample and I expect nearly the same price.so,good."
      ]
    }
  ],
  "metadata": {
    "colab": {
      "collapsed_sections": [],
      "name": "200020161_DS 303_Assignment1.ipynb",
      "provenance": []
    },
    "kernelspec": {
      "display_name": "Python 3.9.7 ('base')",
      "language": "python",
      "name": "python3"
    },
    "language_info": {
      "codemirror_mode": {
        "name": "ipython",
        "version": 3
      },
      "file_extension": ".py",
      "mimetype": "text/x-python",
      "name": "python",
      "nbconvert_exporter": "python",
      "pygments_lexer": "ipython3",
      "version": "3.9.7"
    },
    "vscode": {
      "interpreter": {
        "hash": "a39cf277e05bada940e593f0bf5df75399e07bbdcea3bed4b460e2f562d05994"
      }
    }
  },
  "nbformat": 4,
  "nbformat_minor": 0
}
